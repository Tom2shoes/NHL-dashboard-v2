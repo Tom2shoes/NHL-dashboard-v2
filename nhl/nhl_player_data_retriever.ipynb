{
 "cells": [
  {
   "cell_type": "code",
   "execution_count": 1,
   "metadata": {},
   "outputs": [],
   "source": [
    "import requests\n",
    "import pandas as pd\n",
    "import json\n",
    "import pprint\n",
    "pp = pprint.PrettyPrinter(indent=1)"
   ]
  },
  {
   "cell_type": "code",
   "execution_count": 2,
   "metadata": {},
   "outputs": [],
   "source": [
    "#create list of dictionary with every player id, name, link\n",
    "\n",
    "roster_url = \"https://statsapi.web.nhl.com/api/v1/teams?expand=team.roster\"\n",
    "\n",
    "nhl_roster = requests.get(roster_url).json()\n",
    "\n",
    "player_id_list = []\n",
    "team_list = []\n",
    "\n",
    "\n",
    "for team in nhl_roster['teams']:\n",
    "    team_name = team['name']\n",
    "    team_roster = team['roster']['roster']\n",
    "    \n",
    "    team_info = {\n",
    "        'team': team_name,\n",
    "        'roster': team_roster\n",
    "    }\n",
    "    \n",
    "    team_list.append(team_info)\n",
    "    \n",
    "    for player in team_roster:\n",
    "        info = player['person']\n",
    "        player_id_list.append(info)"
   ]
  },
  {
   "cell_type": "code",
   "execution_count": 3,
   "metadata": {
    "scrolled": true
   },
   "outputs": [],
   "source": [
    "#user input of player (must be spelled correctly)\n",
    "\n",
    "search = 'Ryan Getzlaf'\n",
    "\n",
    "#return input player's team name\n",
    "#the plan is to use the team name to look up the last 5/10 games played by game_id\n",
    "search_team = []\n",
    "\n",
    "\n",
    "for team in team_list:\n",
    "    for player in team['roster']:\n",
    "        if search == player['person']['fullName']:\n",
    "            try:\n",
    "                search_team.append(team)\n",
    "                search_team = search_team[0]['team']\n",
    "                \n",
    "                search_id = player['person']['id']\n",
    "            except:\n",
    "                pass"
   ]
  },
  {
   "cell_type": "code",
   "execution_count": 4,
   "metadata": {},
   "outputs": [],
   "source": [
    "#using the search_id, get stats for that player\n",
    "\n",
    "stats_url = f\"https://statsapi.web.nhl.com/api/v1/people/{search_id}/stats?stats=yearByYear\"\n",
    "player_all_seasons = requests.get(stats_url).json()\n",
    "all_stats = player_all_seasons['stats'][0]['splits']"
   ]
  },
  {
   "cell_type": "code",
   "execution_count": 5,
   "metadata": {},
   "outputs": [],
   "source": [
    "nhl_stats = []\n",
    "\n",
    "for season in range(len(all_stats)):\n",
    "    if all_stats[season]['league']['name'] == 'National Hockey League':\n",
    "        nhl_stats.append(all_stats[season])\n",
    "    else:\n",
    "        next"
   ]
  },
  {
   "cell_type": "code",
   "execution_count": 6,
   "metadata": {},
   "outputs": [],
   "source": [
    "nhl_games = []\n",
    "nhl_goals = []\n",
    "nhl_assists = []\n",
    "nhl_pims_raw = []\n",
    "nhl_shots = []\n",
    "nhl_toi_raw = []\n",
    "\n",
    "for x in range(len(nhl_stats)):\n",
    "    nhl_games.append(nhl_stats[x]['stat']['games'])\n",
    "    nhl_goals.append(nhl_stats[x]['stat']['goals'])\n",
    "    nhl_assists.append(nhl_stats[x]['stat']['assists'])\n",
    "    nhl_pims_raw.append(nhl_stats[x]['stat']['penaltyMinutes'])\n",
    "    nhl_shots.append(nhl_stats[x]['stat']['shots'])\n",
    "    nhl_toi_raw.append(nhl_stats[x]['stat']['timeOnIce'])\n",
    "    "
   ]
  },
  {
   "cell_type": "code",
   "execution_count": 7,
   "metadata": {},
   "outputs": [],
   "source": [
    "#convert toi/penalty minutes from strings into seconds\n",
    "\n",
    "nhl_toi = []\n",
    "nhl_pims = []\n",
    "\n",
    "for x in range(len(nhl_toi_raw)):\n",
    "    min, sec = nhl_toi_raw[x].split(\":\")\n",
    "    sec = int(sec)\n",
    "    min = int(min)\n",
    "    min = min * 60\n",
    "    total_seconds = min + sec\n",
    "    nhl_toi.append(total_seconds)\n",
    "    \n",
    "for x in range(len(nhl_pims_raw)):\n",
    "    nhl_pims.append(int(nhl_pims_raw[x]))\n"
   ]
  },
  {
   "cell_type": "code",
   "execution_count": 8,
   "metadata": {
    "scrolled": true
   },
   "outputs": [],
   "source": [
    "#creating stats to show\n",
    "\n",
    "total_games = sum(nhl_games)\n",
    "total_goals = sum(nhl_goals)\n",
    "total_assists = sum(nhl_assists)\n",
    "total_pims = sum(nhl_pims)\n",
    "total_shots = sum(nhl_shots)\n",
    "total_toi = sum(nhl_toi)\n",
    "\n",
    "gpg = total_goals / total_games\n",
    "apg = total_assists / total_games\n",
    "spg = total_shots / total_games\n",
    "\n",
    "gp60 = total_goals / (total_toi/3600)\n",
    "ap60 = total_assists / (total_toi/3600)\n",
    "sp60 = total_shots / (total_toi/3600)\n"
   ]
  },
  {
   "cell_type": "code",
   "execution_count": 9,
   "metadata": {},
   "outputs": [],
   "source": [
    "#nhl stats for the last 3 seasons\n",
    "\n",
    "last_three_years_stats = nhl_stats[-3:]"
   ]
  },
  {
   "cell_type": "code",
   "execution_count": 10,
   "metadata": {},
   "outputs": [],
   "source": [
    "\n",
    "last_three_years_games = []\n",
    "last_three_years_goals = []\n",
    "last_three_years_assists = []\n",
    "last_three_years_pims_raw = []\n",
    "last_three_years_shots = []\n",
    "last_three_years_toi_raw = []\n",
    "\n",
    "for x in range(len(last_three_years_stats)):\n",
    "    last_three_years_games.append(last_three_years_stats[x]['stat']['games'])\n",
    "    last_three_years_goals.append(last_three_years_stats[x]['stat']['goals'])\n",
    "    last_three_years_assists.append(last_three_years_stats[x]['stat']['assists'])\n",
    "    last_three_years_pims_raw.append(last_three_years_stats[x]['stat']['penaltyMinutes'])\n",
    "    last_three_years_shots.append(last_three_years_stats[x]['stat']['shots'])\n",
    "    last_three_years_toi_raw.append(last_three_years_stats[x]['stat']['timeOnIce'])"
   ]
  },
  {
   "cell_type": "code",
   "execution_count": 11,
   "metadata": {},
   "outputs": [],
   "source": [
    "last_three_years_toi = []\n",
    "last_three_years_pims = []\n",
    "\n",
    "for x in range(len(last_three_years_toi_raw)):\n",
    "    min, sec = last_three_years_toi_raw[x].split(\":\")\n",
    "    sec = int(sec)\n",
    "    min = int(min)\n",
    "    min = min * 60\n",
    "    total_seconds = min + sec\n",
    "    last_three_years_toi.append(total_seconds)\n",
    "    \n",
    "for x in range(len(last_three_years_pims_raw)):\n",
    "    last_three_years_pims.append(int(last_three_years_pims_raw[x]))\n"
   ]
  },
  {
   "cell_type": "code",
   "execution_count": 12,
   "metadata": {},
   "outputs": [],
   "source": [
    "last_three_years_total_games = sum(last_three_years_games)\n",
    "last_three_years_total_goals = sum(last_three_years_goals)\n",
    "last_three_years_total_assists = sum(last_three_years_assists)\n",
    "last_three_years_total_pims = sum(last_three_years_pims)\n",
    "last_three_years_total_shots = sum(last_three_years_shots)\n",
    "last_three_years_total_toi = sum(last_three_years_toi)\n",
    "\n",
    "last_three_years_gpg = last_three_years_total_goals / last_three_years_total_games\n",
    "last_three_years_apg = total_assists / last_three_years_total_games\n",
    "last_three_years_spg = total_shots / last_three_years_total_games\n",
    "\n",
    "last_three_years_gp60 = last_three_years_total_goals / (last_three_years_total_toi/3600)\n",
    "last_three_years_ap60 = last_three_years_total_assists / (last_three_years_total_toi/3600)\n",
    "last_three_years_sp60 = last_three_years_total_shots / (last_three_years_total_toi/3600)\n"
   ]
  },
  {
   "cell_type": "code",
   "execution_count": 13,
   "metadata": {},
   "outputs": [
    {
     "name": "stdout",
     "output_type": "stream",
     "text": [
      "258\n",
      "37\n"
     ]
    }
   ],
   "source": [
    "print(total_goals)\n",
    "print(last_three_years_total_goals)"
   ]
  },
  {
   "cell_type": "code",
   "execution_count": 14,
   "metadata": {},
   "outputs": [
    {
     "name": "stdout",
     "output_type": "stream",
     "text": [
      "653\n",
      "133\n"
     ]
    }
   ],
   "source": [
    "print(total_assists)\n",
    "print(last_three_years_total_assists)"
   ]
  },
  {
   "cell_type": "code",
   "execution_count": 15,
   "metadata": {},
   "outputs": [],
   "source": [
    "last_years_stats = nhl_stats[-1:]"
   ]
  },
  {
   "cell_type": "code",
   "execution_count": 16,
   "metadata": {},
   "outputs": [
    {
     "data": {
      "text/plain": [
       "[{'season': '20182019',\n",
       "  'stat': {'timeOnIce': '1016:53',\n",
       "   'assists': 25,\n",
       "   'goals': 11,\n",
       "   'pim': 40,\n",
       "   'shots': 114,\n",
       "   'games': 51,\n",
       "   'hits': 111,\n",
       "   'powerPlayGoals': 1,\n",
       "   'powerPlayPoints': 7,\n",
       "   'powerPlayTimeOnIce': '138:58',\n",
       "   'evenTimeOnIce': '847:05',\n",
       "   'penaltyMinutes': '40',\n",
       "   'faceOffPct': 53.93,\n",
       "   'shotPct': 9.6,\n",
       "   'gameWinningGoals': 2,\n",
       "   'overTimeGoals': 1,\n",
       "   'shortHandedGoals': 0,\n",
       "   'shortHandedPoints': 0,\n",
       "   'shortHandedTimeOnIce': '30:50',\n",
       "   'blocked': 59,\n",
       "   'plusMinus': -21,\n",
       "   'points': 36,\n",
       "   'shifts': 1222},\n",
       "  'team': {'id': 24, 'name': 'Anaheim Ducks', 'link': '/api/v1/teams/24'},\n",
       "  'league': {'id': 133,\n",
       "   'name': 'National Hockey League',\n",
       "   'link': '/api/v1/league/133'},\n",
       "  'sequenceNumber': 1}]"
      ]
     },
     "execution_count": 16,
     "metadata": {},
     "output_type": "execute_result"
    }
   ],
   "source": [
    "last_years_stats"
   ]
  },
  {
   "cell_type": "code",
   "execution_count": null,
   "metadata": {},
   "outputs": [],
   "source": []
  }
 ],
 "metadata": {
  "anaconda-cloud": {},
  "celltoolbar": "Slideshow",
  "kernelspec": {
   "display_name": "Python [default]",
   "language": "python",
   "name": "python3"
  },
  "language_info": {
   "codemirror_mode": {
    "name": "ipython",
    "version": 3
   },
   "file_extension": ".py",
   "mimetype": "text/x-python",
   "name": "python",
   "nbconvert_exporter": "python",
   "pygments_lexer": "ipython3",
   "version": "3.6.5"
  },
  "varInspector": {
   "cols": {
    "lenName": 16,
    "lenType": 16,
    "lenVar": 40
   },
   "kernels_config": {
    "python": {
     "delete_cmd_postfix": "",
     "delete_cmd_prefix": "del ",
     "library": "var_list.py",
     "varRefreshCmd": "print(var_dic_list())"
    },
    "r": {
     "delete_cmd_postfix": ") ",
     "delete_cmd_prefix": "rm(",
     "library": "var_list.r",
     "varRefreshCmd": "cat(var_dic_list()) "
    }
   },
   "types_to_exclude": [
    "module",
    "function",
    "builtin_function_or_method",
    "instance",
    "_Feature"
   ],
   "window_display": false
  }
 },
 "nbformat": 4,
 "nbformat_minor": 2
}
