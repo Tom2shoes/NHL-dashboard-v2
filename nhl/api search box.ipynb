{
 "cells": [
  {
   "cell_type": "code",
   "execution_count": 5,
   "metadata": {
    "collapsed": true
   },
   "outputs": [],
   "source": [
    "url = 'https://statsapi.web.nhl.com/api/v1/people/'"
   ]
  },
  {
   "cell_type": "code",
   "execution_count": 6,
   "metadata": {},
   "outputs": [
    {
     "name": "stdout",
     "output_type": "stream",
     "text": [
      "search by player ID: \n"
     ]
    }
   ],
   "source": [
    "a = input(\"search by player ID: \")"
   ]
  },
  {
   "cell_type": "code",
   "execution_count": 7,
   "metadata": {},
   "outputs": [
    {
     "data": {
      "text/plain": [
       "''"
      ]
     },
     "execution_count": 7,
     "metadata": {},
     "output_type": "execute_result"
    }
   ],
   "source": [
    "a"
   ]
  },
  {
   "cell_type": "code",
   "execution_count": 8,
   "metadata": {
    "collapsed": true
   },
   "outputs": [],
   "source": [
    "import requests"
   ]
  },
  {
   "cell_type": "code",
   "execution_count": 4,
   "metadata": {},
   "outputs": [
    {
     "ename": "NameError",
     "evalue": "name 'url' is not defined",
     "output_type": "error",
     "traceback": [
      "\u001b[0;31m---------------------------------------------------------------------------\u001b[0m",
      "\u001b[0;31mNameError\u001b[0m                                 Traceback (most recent call last)",
      "\u001b[0;32m<ipython-input-4-bf1281984b3a>\u001b[0m in \u001b[0;36m<module>\u001b[0;34m()\u001b[0m\n\u001b[0;32m----> 1\u001b[0;31m \u001b[0mrequests\u001b[0m\u001b[0;34m.\u001b[0m\u001b[0mget\u001b[0m\u001b[0;34m(\u001b[0m\u001b[0murl\u001b[0m\u001b[0;34m)\u001b[0m\u001b[0;34m\u001b[0m\u001b[0;34m\u001b[0m\u001b[0m\n\u001b[0m",
      "\u001b[0;31mNameError\u001b[0m: name 'url' is not defined"
     ]
    }
   ],
   "source": [
    "requests.get(url)"
   ]
  },
  {
   "cell_type": "code",
   "execution_count": 17,
   "metadata": {},
   "outputs": [],
   "source": [
    "import requests\n",
    "import json"
   ]
  },
  {
   "cell_type": "code",
   "execution_count": 18,
   "metadata": {},
   "outputs": [],
   "source": [
    "r = requests.get('https://statsapi.web.nhl.com/api/v1/people/8477474')"
   ]
  },
  {
   "cell_type": "code",
   "execution_count": 21,
   "metadata": {},
   "outputs": [
    {
     "name": "stdout",
     "output_type": "stream",
     "text": [
      "<Response [200]>\n"
     ]
    }
   ],
   "source": [
    "print(r)"
   ]
  },
  {
   "cell_type": "code",
   "execution_count": 22,
   "metadata": {
    "collapsed": true
   },
   "outputs": [],
   "source": [
    "person = json.loads(r.text)"
   ]
  },
  {
   "cell_type": "code",
   "execution_count": 23,
   "metadata": {},
   "outputs": [
    {
     "data": {
      "text/plain": [
       "{'active': True,\n",
       " 'alternateCaptain': False,\n",
       " 'birthCity': 'Winnipeg',\n",
       " 'birthCountry': 'CAN',\n",
       " 'birthDate': '1995-04-22',\n",
       " 'birthStateProvince': 'MB',\n",
       " 'captain': False,\n",
       " 'currentAge': 23,\n",
       " 'currentTeam': {'id': 17,\n",
       "  'link': '/api/v1/teams/17',\n",
       "  'name': 'Detroit Red Wings'},\n",
       " 'firstName': 'Madison',\n",
       " 'fullName': 'Madison Bowey',\n",
       " 'height': '6\\' 2\"',\n",
       " 'id': 8477474,\n",
       " 'lastName': 'Bowey',\n",
       " 'link': '/api/v1/people/8477474',\n",
       " 'nationality': 'CAN',\n",
       " 'primaryNumber': '74',\n",
       " 'primaryPosition': {'abbreviation': 'D',\n",
       "  'code': 'D',\n",
       "  'name': 'Defenseman',\n",
       "  'type': 'Defenseman'},\n",
       " 'rookie': False,\n",
       " 'rosterStatus': 'Y',\n",
       " 'shootsCatches': 'R',\n",
       " 'weight': 198}"
      ]
     },
     "execution_count": 23,
     "metadata": {},
     "output_type": "execute_result"
    }
   ],
   "source": [
    "person['people'][0]"
   ]
  },
  {
   "cell_type": "code",
   "execution_count": 27,
   "metadata": {},
   "outputs": [
    {
     "data": {
      "text/plain": [
       "{'copyright': 'NHL and the NHL Shield are registered trademarks of the National Hockey League. NHL and NHL team marks are the property of the NHL and its teams. © NHL 2019. All Rights Reserved.',\n",
       " 'people': [{'active': True,\n",
       "   'alternateCaptain': False,\n",
       "   'birthCity': 'Winnipeg',\n",
       "   'birthCountry': 'CAN',\n",
       "   'birthDate': '1995-04-22',\n",
       "   'birthStateProvince': 'MB',\n",
       "   'captain': False,\n",
       "   'currentAge': 23,\n",
       "   'currentTeam': {'id': 15,\n",
       "    'link': '/api/v1/teams/15',\n",
       "    'name': 'Washington Capitals'},\n",
       "   'firstName': 'Madison',\n",
       "   'fullName': 'Madison Bowey',\n",
       "   'height': '6\\' 2\"',\n",
       "   'id': 8477474,\n",
       "   'lastName': 'Bowey',\n",
       "   'link': '/api/v1/people/8477474',\n",
       "   'nationality': 'CAN',\n",
       "   'primaryNumber': '22',\n",
       "   'primaryPosition': {'abbreviation': 'D',\n",
       "    'code': 'D',\n",
       "    'name': 'Defenseman',\n",
       "    'type': 'Defenseman'},\n",
       "   'rookie': False,\n",
       "   'rosterStatus': 'Y',\n",
       "   'shootsCatches': 'R',\n",
       "   'weight': 198}]}"
      ]
     },
     "execution_count": 27,
     "metadata": {},
     "output_type": "execute_result"
    }
   ],
   "source": [
    "person"
   ]
  },
  {
   "cell_type": "code",
   "execution_count": null,
   "metadata": {
    "collapsed": true
   },
   "outputs": [],
   "source": []
  }
 ],
 "metadata": {
  "kernelspec": {
   "display_name": "Python 3",
   "language": "python",
   "name": "python3"
  },
  "language_info": {
   "codemirror_mode": {
    "name": "ipython",
    "version": 3
   },
   "file_extension": ".py",
   "mimetype": "text/x-python",
   "name": "python",
   "nbconvert_exporter": "python",
   "pygments_lexer": "ipython3",
   "version": "3.6.7"
  }
 },
 "nbformat": 4,
 "nbformat_minor": 2
}
